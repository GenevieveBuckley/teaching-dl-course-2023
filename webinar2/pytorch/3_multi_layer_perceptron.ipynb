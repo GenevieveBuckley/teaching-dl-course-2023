{
 "cells": [
  {
   "cell_type": "markdown",
   "metadata": {
    "colab_type": "text",
    "id": "6B8zAmXMzQa5"
   },
   "source": [
    "<a href=\"https://colab.research.google.com/github/constantinpape/dl-teaching-resources/blob/main/exercises/classification/3_multi_layer_perceptron.ipynb\" target=\"_parent\"><img src=\"https://colab.research.google.com/assets/colab-badge.svg\" alt=\"Open In Colab\"/></a>"
   ]
  },
  {
   "cell_type": "markdown",
   "metadata": {
    "colab_type": "text",
    "id": "Xr3oCM0LzQa8"
   },
   "source": [
    "# Multi-layer Perceptron on CIFAR10\n",
    "\n",
    "Based on the previous exercise, we will train a multi-layer network, also known as multi-layer perceptron. In this architecture, we will have 'hidden layers', i.e. layers that receive input not from the input directly but from previous layers in the network and that are not directly observed in the output."
   ]
  },
  {
   "cell_type": "markdown",
   "metadata": {},
   "source": [
    "## Downloading the data - BAND\n",
    "\n",
    "Data used in webinars is already downloaded and can be found in `/scratch/dl-course-data`"
   ]
  },
  {
   "cell_type": "code",
   "execution_count": 1,
   "metadata": {},
   "outputs": [],
   "source": [
    "cifar_dir = \"/scratch/dl-course-data/webinar2/cifar10\""
   ]
  },
  {
   "cell_type": "markdown",
   "metadata": {
    "jp-MarkdownHeadingCollapsed": true,
    "tags": []
   },
   "source": [
    "## Downloading the data - Colab "
   ]
  },
  {
   "cell_type": "code",
   "execution_count": null,
   "metadata": {},
   "outputs": [],
   "source": [
    "cifar_dir = './cifar10'"
   ]
  },
  {
   "cell_type": "code",
   "execution_count": null,
   "metadata": {},
   "outputs": [],
   "source": [
    "!cifar2png cifar10 {cifar_dir}"
   ]
  },
  {
   "cell_type": "code",
   "execution_count": null,
   "metadata": {},
   "outputs": [],
   "source": [
    "# we refactor some codes from previous notebooks into a python file 'utils.py'\n",
    "# to reuse it in later notebooks.\n",
    "# run this in google colab to get the utils.py file\n",
    "!wget https://raw.githubusercontent.com/constantinpape/dl-teaching-resources/main/exercises/classification/utils.py"
   ]
  },
  {
   "cell_type": "markdown",
   "metadata": {
    "colab_type": "text",
    "id": "ra1bNlFN4qoz"
   },
   "source": [
    "## Preperation"
   ]
  },
  {
   "cell_type": "code",
   "execution_count": 2,
   "metadata": {
    "colab": {},
    "colab_type": "code",
    "id": "zyXMvcuCzQbI"
   },
   "outputs": [],
   "source": [
    "# load tensorboard extension\n",
    "%load_ext tensorboard"
   ]
  },
  {
   "cell_type": "code",
   "execution_count": 3,
   "metadata": {
    "colab": {},
    "colab_type": "code",
    "id": "iX0lcNv2zQba"
   },
   "outputs": [
    {
     "name": "stderr",
     "output_type": "stream",
     "text": [
      "/opt/conda/envs/dl-pytorch/lib/python3.8/site-packages/scipy/__init__.py:146: UserWarning: A NumPy version >=1.16.5 and <1.23.0 is required for this version of SciPy (detected version 1.24.3\n",
      "  warnings.warn(f\"A NumPy version >={np_minversion} and <{np_maxversion}\"\n"
     ]
    }
   ],
   "source": [
    "# import torch and other libraries\n",
    "import os\n",
    "import numpy as np\n",
    "import sklearn.metrics as metrics\n",
    "import matplotlib.pyplot as plt\n",
    "from tqdm import trange\n",
    "\n",
    "import torch\n",
    "import torch.nn as nn\n",
    "from torch.utils.data import DataLoader\n",
    "from torch.optim import Adam\n",
    "from torch.utils.tensorboard import SummaryWriter"
   ]
  },
  {
   "cell_type": "code",
   "execution_count": 4,
   "metadata": {
    "colab": {},
    "colab_type": "code",
    "id": "_adA5sMRzQb0"
   },
   "outputs": [
    {
     "name": "stdout",
     "output_type": "stream",
     "text": [
      "GPU is available\n"
     ]
    }
   ],
   "source": [
    "# check if we have gpu support\n",
    "# colab offers free gpus, however they are not activated by default.\n",
    "# to activate the gpu, go to 'Runtime->Change runtime type'. \n",
    "# Then select 'GPU' in 'Hardware accelerator' and click 'Save'\n",
    "have_gpu = torch.cuda.is_available()\n",
    "# we need to define the device for torch, yadda yadda\n",
    "if have_gpu:\n",
    "    print(\"GPU is available\")\n",
    "    device = torch.device('cuda')\n",
    "else:\n",
    "    print(\"GPU is not available, training will run on the CPU\")\n",
    "    device = torch.device('cpu')"
   ]
  },
  {
   "cell_type": "code",
   "execution_count": 5,
   "metadata": {
    "colab": {},
    "colab_type": "code",
    "id": "UxJnmv9OzQcK"
   },
   "outputs": [],
   "source": [
    "# we will reuse the training function, validation function and\n",
    "# data preparation from the previous notebook\n",
    "import utils"
   ]
  },
  {
   "cell_type": "code",
   "execution_count": 6,
   "metadata": {
    "colab": {},
    "colab_type": "code",
    "id": "XK8eKTTSzQcb"
   },
   "outputs": [],
   "source": [
    "categories = os.listdir(os.path.join(cifar_dir, 'train'))\n",
    "categories.sort()"
   ]
  },
  {
   "cell_type": "markdown",
   "metadata": {
    "colab_type": "text",
    "id": "XaWkklrjzQci"
   },
   "source": [
    "## Multi-layer perceptron\n",
    "\n",
    "In this execise, we go from a single layer network to a network with multiple layers, also known as multi-layer perceptron, or MLP.\n",
    "We still use fully connected layers (`nn.Linear`), i.e. each neuron in a given layer receives input from all neurons in the previous layer.\n",
    "\n",
    "Imporantly, we apply a non-linearity to all layer outputs.\n",
    "Otherwise, the layers could be collapsed into a single layer by matrix multiplication."
   ]
  },
  {
   "cell_type": "code",
   "execution_count": 7,
   "metadata": {
    "colab": {},
    "colab_type": "code",
    "id": "jiMGapv9zQck"
   },
   "outputs": [],
   "source": [
    "class MLP(nn.Module):\n",
    "    def __init__(self, n_pixels, n_classes):\n",
    "        super().__init__()\n",
    "        self.n_pixels = n_pixels\n",
    "        self.n_classes = n_classes\n",
    "        \n",
    "        # here, we define the structure of the MLP.\n",
    "        # it's imporant that we use a non-linearity after each \n",
    "        # fully connected layer! Here we use the rectified linear\n",
    "        # unit, short ReLu\n",
    "        self.layers = nn.Sequential(\n",
    "            nn.Linear(n_pixels, 400),\n",
    "            nn.ReLU(),\n",
    "            nn.Linear(400, 200),\n",
    "            nn.ReLU(),\n",
    "            nn.Linear(200, 100),\n",
    "            nn.ReLU(),\n",
    "            nn.Linear(100, 50),\n",
    "            nn.ReLU(),\n",
    "            nn.Linear(50, n_classes),\n",
    "            nn.LogSoftmax(dim=1)\n",
    "        )\n",
    "    \n",
    "    def forward(self, x):\n",
    "        x = x.view(-1, self.n_pixels)\n",
    "        x = self.layers(x)\n",
    "        return x"
   ]
  },
  {
   "cell_type": "code",
   "execution_count": 8,
   "metadata": {
    "colab": {},
    "colab_type": "code",
    "id": "lXIWFz0AzQcr"
   },
   "outputs": [
    {
     "data": {
      "text/plain": [
       "MLP(\n",
       "  (layers): Sequential(\n",
       "    (0): Linear(in_features=3072, out_features=400, bias=True)\n",
       "    (1): ReLU()\n",
       "    (2): Linear(in_features=400, out_features=200, bias=True)\n",
       "    (3): ReLU()\n",
       "    (4): Linear(in_features=200, out_features=100, bias=True)\n",
       "    (5): ReLU()\n",
       "    (6): Linear(in_features=100, out_features=50, bias=True)\n",
       "    (7): ReLU()\n",
       "    (8): Linear(in_features=50, out_features=10, bias=True)\n",
       "    (9): LogSoftmax(dim=1)\n",
       "  )\n",
       ")"
      ]
     },
     "execution_count": 8,
     "metadata": {},
     "output_type": "execute_result"
    }
   ],
   "source": [
    "# instantiate the model\n",
    "model = MLP(3072, 10)\n",
    "model.to(device)"
   ]
  },
  {
   "cell_type": "code",
   "execution_count": 9,
   "metadata": {
    "colab": {},
    "colab_type": "code",
    "id": "_iVu6jS9zQcx"
   },
   "outputs": [
    {
     "name": "stderr",
     "output_type": "stream",
     "text": [
      "100%|██████████| 10/10 [01:50<00:00, 11.03s/it]\n"
     ]
    }
   ],
   "source": [
    "# get training and validation data\n",
    "train_dataset, val_dataset = utils.make_cifar_datasets(cifar_dir)"
   ]
  },
  {
   "cell_type": "code",
   "execution_count": 10,
   "metadata": {
    "colab": {},
    "colab_type": "code",
    "id": "OejyDJzOzQc7"
   },
   "outputs": [],
   "source": [
    "# instantiate loaders, loss, optimizer and tensorboard\n",
    "\n",
    "train_loader = DataLoader(train_dataset, batch_size=4, shuffle=True)\n",
    "val_loader = DataLoader(val_dataset, batch_size=25)\n",
    "\n",
    "optimizer = Adam(model.parameters(), lr=1.e-4)\n",
    "\n",
    "loss_function = nn.NLLLoss()\n",
    "loss_function.to(device)"
   ]
  },
  {
   "cell_type": "code",
   "execution_count": 13,
   "metadata": {
    "colab": {},
    "colab_type": "code",
    "id": "OejyDJzOzQc7"
   },
   "outputs": [
    {
     "data": {
      "text/plain": [
       "Reusing TensorBoard on port 6006 (pid 20850), started 0:30:59 ago. (Use '!kill 20850' to kill it.)"
      ]
     },
     "metadata": {},
     "output_type": "display_data"
    },
    {
     "data": {
      "text/html": [
       "\n",
       "      <iframe id=\"tensorboard-frame-d3a37509c3f67ccf\" width=\"100%\" height=\"800\" frameborder=\"0\">\n",
       "      </iframe>\n",
       "      <script>\n",
       "        (function() {\n",
       "          const frame = document.getElementById(\"tensorboard-frame-d3a37509c3f67ccf\");\n",
       "          const url = new URL(\"/\", window.location);\n",
       "          const port = 6006;\n",
       "          if (port) {\n",
       "            url.port = port;\n",
       "          }\n",
       "          frame.src = url;\n",
       "        })();\n",
       "      </script>\n",
       "    "
      ],
      "text/plain": [
       "<IPython.core.display.HTML object>"
      ]
     },
     "metadata": {},
     "output_type": "display_data"
    }
   ],
   "source": [
    "tb_logger = SummaryWriter('runs/log_mlp')\n",
    "%tensorboard --logdir runs"
   ]
  },
  {
   "cell_type": "code",
   "execution_count": 11,
   "metadata": {
    "colab": {},
    "colab_type": "code",
    "id": "ka_zkBLdzQdC"
   },
   "outputs": [
    {
     "name": "stderr",
     "output_type": "stream",
     "text": [
      "100%|██████████| 6/6 [03:36<00:00, 36.12s/it]\n"
     ]
    }
   ],
   "source": [
    "# train for a couple of epochs\n",
    "n_epochs = 6\n",
    "for epoch in trange(n_epochs):\n",
    "    utils.train(model, train_loader, loss_function, optimizer,\n",
    "                device, epoch, tb_logger=tb_logger)\n",
    "    step = (epoch + 1) * len(train_loader)\n",
    "    utils.validate(model, val_loader, loss_function,\n",
    "                   device, step,\n",
    "                   tb_logger=tb_logger)"
   ]
  },
  {
   "cell_type": "code",
   "execution_count": 12,
   "metadata": {
    "colab": {},
    "colab_type": "code",
    "id": "CAINshVEzQdJ"
   },
   "outputs": [
    {
     "name": "stderr",
     "output_type": "stream",
     "text": [
      "100%|██████████| 10/10 [00:21<00:00,  2.11s/it]\n"
     ]
    }
   ],
   "source": [
    "# evaluate the model on test data\n",
    "test_dataset = utils.make_cifar_test_dataset(cifar_dir)\n",
    "test_loader = DataLoader(test_dataset, batch_size=25)\n",
    "predictions, labels = utils.validate(model, test_loader, loss_function,\n",
    "                                     device, step=0, tb_logger=None)"
   ]
  },
  {
   "cell_type": "code",
   "execution_count": 14,
   "metadata": {
    "colab": {},
    "colab_type": "code",
    "id": "sDsUV2PmzQdX"
   },
   "outputs": [
    {
     "name": "stdout",
     "output_type": "stream",
     "text": [
      "Test accuracy:\n",
      "0.4709\n"
     ]
    },
    {
     "data": {
      "image/png": "[encoded data removed]",
      "text/plain": [
       "<Figure size 576x576 with 2 Axes>"
      ]
     },
     "metadata": {
      "needs_background": "light"
     },
     "output_type": "display_data"
    }
   ],
   "source": [
    "import matplotlib.pyplot as plt\n",
    "print(\"Test accuracy:\")\n",
    "accuracy = metrics.accuracy_score(labels, predictions)\n",
    "print(accuracy)\n",
    "\n",
    "fig, ax = plt.subplots(1, figsize=(8, 8))\n",
    "utils.make_confusion_matrix(labels, predictions, categories, ax)"
   ]
  },
  {
   "cell_type": "code",
   "execution_count": 15,
   "metadata": {},
   "outputs": [],
   "source": [
    "# QUESTION: sometimes I can't see the tensorboard dashboard in the notebook.\n",
    "# How to get it back?"
   ]
  },
  {
   "cell_type": "markdown",
   "metadata": {
    "colab_type": "text",
    "id": "uQUvUBL2zQdd"
   },
   "source": [
    "## Tasks and Questions\n",
    "\n",
    "Tasks\n",
    "- Try 3 different learning rate values and observe how this changes the training curves, training time and results on the test data.\n",
    "- Try different architectures for your MLP. For example, you can increase the number of layers or use a different activation function (e.g. Sigmoid) and compare them on the test dataset.\n",
    "\n",
    "Question:\n",
    "- Which of the models you have trained in this and in the previous notebook perform best?\n",
    "- Besides the final performance, how do the training curves differ?\n",
    "- Can you find any systematic similarities or differences in the confusion matrix for the different models?\n",
    "- What can you do to make the results of these comparisons more reliable?\n",
    "\n",
    "Advanced:\n",
    "- Try one or more of your architectures with preset filters (see last notebook) as input features."
   ]
  }
 ],
 "metadata": {
  "accelerator": "GPU",
  "colab": {
   "name": "3_multi_layer_perceptron.ipynb",
   "provenance": []
  },
  "kernelspec": {
   "display_name": "DL for Image Analysis (PyTorch)",
   "language": "python",
   "name": "dl-pytorch"
  },
  "language_info": {
   "codemirror_mode": {
    "name": "ipython",
    "version": 3
   },
   "file_extension": ".py",
   "mimetype": "text/x-python",
   "name": "python",
   "nbconvert_exporter": "python",
   "pygments_lexer": "ipython3",
   "version": "3.8.12"
  }
 },
 "nbformat": 4,
 "nbformat_minor": 4
}
